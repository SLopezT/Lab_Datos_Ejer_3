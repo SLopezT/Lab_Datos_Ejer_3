{
  "nbformat": 4,
  "nbformat_minor": 0,
  "metadata": {
    "accelerator": "GPU",
    "colab": {
      "name": "e3_procesamiento_de_texto_y_redes_LSTM.ipynb",
      "provenance": [],
      "collapsed_sections": [
        "zejcg_ArCEeW",
        "8wc0YidsCEez",
        "dX2EcoxICEfC",
        "A3x2F0cVCEfi",
        "ySZAaNLlCEf3",
        "pAg8An6BEsDg",
        "14YOBySYCEgB",
        "M8A8IZPoCEgN",
        "CW8MfC6GEdgD"
      ]
    },
    "kernelspec": {
      "display_name": "Python 3",
      "language": "python",
      "name": "python3"
    },
    "language_info": {
      "codemirror_mode": {
        "name": "ipython",
        "version": 3
      },
      "file_extension": ".py",
      "mimetype": "text/x-python",
      "name": "python",
      "nbconvert_exporter": "python",
      "pygments_lexer": "ipython3",
      "version": "3.7.4"
    },
    "nbTranslate": {
      "displayLangs": [
        "es",
        "en"
      ],
      "hotkey": "alt-t",
      "langInMainMenu": true,
      "sourceLang": "en",
      "targetLang": "es",
      "useGoogleTranslate": true
    },
    "toc": {
      "base_numbering": 1,
      "nav_menu": {
        "height": "48px",
        "width": "252px"
      },
      "number_sections": true,
      "sideBar": true,
      "skip_h1_title": true,
      "title_cell": "Table of Contents",
      "title_sidebar": "Contents",
      "toc_cell": false,
      "toc_position": {
        "height": "calc(100% - 180px)",
        "left": "10px",
        "top": "150px",
        "width": "358.367px"
      },
      "toc_section_display": "block",
      "toc_window_display": false
    }
  },
  "cells": [
    {
      "cell_type": "markdown",
      "metadata": {
        "colab_type": "text",
        "id": "D-YiltMLCEeT"
      },
      "source": [
        "# MA6202: Laboratorio de Ciencia de Datos\n",
        "\n",
        "**Profesor: Nicolás Caro**\n",
        "\n",
        "**20/07/2020 - E3 S15**\n",
        "\n",
        "\n",
        "**Integrantes del grupo**: \\\\\n",
        "Guillermo Dinamarca \\\\\n",
        "Sebastián López \\\\\n",
        "Pablo Paredes\n"
      ]
    },
    {
      "cell_type": "markdown",
      "metadata": {
        "colab_type": "text",
        "id": "zejcg_ArCEeW"
      },
      "source": [
        "## Ejercicio 3"
      ]
    },
    {
      "cell_type": "markdown",
      "metadata": {
        "colab_type": "text",
        "id": "unIMQSF-CEeZ"
      },
      "source": [
        "El objetivo de esta evaluación es resolver un problema de detección de noticias falsas (*Fake News*) usando herramientas de aprendizaje de máquinas. \n",
        "\n",
        "Para lograr una representación numérica de los textos utilizaremos la librería `spaCy` para procesamiento de lenguaje natural. "
      ]
    },
    {
      "cell_type": "markdown",
      "metadata": {
        "colab_type": "text",
        "id": "CFE7fvkSCEeb"
      },
      "source": [
        "**Instalaciones previas**  \n",
        "Para la ejecución correcta de este notebook puede ser necesario ejecutar los siguientes comandos de instalación:\n",
        "\n",
        "```python\n",
        "!pip install spacy tqdm\n",
        "!pip install -c pytorch torchtext\n",
        "!python -m spacy download en_core_web_sm\n",
        "```\n",
        "**Obs:** Puede usar conda en vez de pip si maneja su librería con esta herramienta. \n",
        "\n",
        "Las librerías que se instalan son:\n",
        "- spacy: ampliamente usada para procesamiento de lenguaje natural. Esta librería posee modelos estadísticos preentrenados como `en_core_web_sm` que será detallado posteriormente.\n",
        "- tqdm: para mostrar barras de progreso en pantalla.\n",
        "- torchtext: contiene en herramientas populares de procesamiento de lenguaje natural."
      ]
    },
    {
      "cell_type": "markdown",
      "metadata": {
        "colab_type": "text",
        "id": "2kixIAB7CEed"
      },
      "source": [
        "**Librerías**  \n",
        "En la evaluación, **no** estará permitido usar librerías ni módulos diferentes a los declarados en la siguiente celda."
      ]
    },
    {
      "cell_type": "code",
      "metadata": {
        "colab_type": "code",
        "id": "9mDw369JCEef",
        "colab": {
          "base_uri": "https://localhost:8080/",
          "height": 166
        },
        "outputId": "814b22e5-7201-4858-ba3a-ba0618da74d1"
      },
      "source": [
        "import matplotlib.pyplot as plt\n",
        "import pandas as pd\n",
        "import torch\n",
        "import torch.nn as nn\n",
        "import torch.optim as optim\n",
        "import seaborn as sns\n",
        "import spacy\n",
        "import os\n",
        "import numpy as np\n",
        "import pickle as pk\n",
        "\n",
        "from tqdm.notebook import tqdm\n",
        "\n",
        "from sklearn.feature_extraction.text import CountVectorizer, TfidfVectorizer\n",
        "from sklearn.metrics import accuracy_score, classification_report,\\\n",
        "    confusion_matrix\n",
        "from sklearn.model_selection import GridSearchCV, train_test_split\n",
        "from sklearn.naive_bayes import MultinomialNB\n",
        "from sklearn.pipeline import Pipeline\n",
        "from sklearn.svm import SVC\n",
        "\n",
        "from torch.nn.utils.rnn import pack_padded_sequence, pad_packed_sequence\n",
        "from torchtext.data import Field, TabularDataset, BucketIterator\n",
        "from torchtext.vocab import GloVe\n",
        "\n",
        "\n",
        "#Puede utilizar esta extension si trabaja en colaboratory:\n",
        "from google.colab import drive\n",
        "drive.mount('/content/drive', force_remount=True)\n",
        "#%cd '/content/drive/My Drive/ejercicio3'"
      ],
      "execution_count": 2,
      "outputs": [
        {
          "output_type": "stream",
          "text": [
            "/usr/local/lib/python3.6/dist-packages/statsmodels/tools/_testing.py:19: FutureWarning: pandas.util.testing is deprecated. Use the functions in the public API at pandas.testing instead.\n",
            "  import pandas.util.testing as tm\n"
          ],
          "name": "stderr"
        },
        {
          "output_type": "stream",
          "text": [
            "Go to this URL in a browser: https://accounts.google.com/o/oauth2/auth?client_id=947318989803-6bn6qk8qdgf4n4g3pfee6491hc0brc4i.apps.googleusercontent.com&redirect_uri=urn%3aietf%3awg%3aoauth%3a2.0%3aoob&response_type=code&scope=email%20https%3a%2f%2fwww.googleapis.com%2fauth%2fdocs.test%20https%3a%2f%2fwww.googleapis.com%2fauth%2fdrive%20https%3a%2f%2fwww.googleapis.com%2fauth%2fdrive.photos.readonly%20https%3a%2f%2fwww.googleapis.com%2fauth%2fpeopleapi.readonly\n",
            "\n",
            "Enter your authorization code:\n",
            "··········\n",
            "Mounted at /content/drive\n"
          ],
          "name": "stdout"
        }
      ]
    },
    {
      "cell_type": "markdown",
      "metadata": {
        "colab_type": "text",
        "id": "rA4Rg0XfCEeq"
      },
      "source": [
        "**Replicabilidad**  \n",
        "A lo largo de todo el ejercicio llamaremos múltiples veces a la función `np.random.seed`, con la semilla fija en la variable `seed_=300`"
      ]
    },
    {
      "cell_type": "code",
      "metadata": {
        "colab_type": "code",
        "id": "j5gBzo2SCEes",
        "colab": {}
      },
      "source": [
        "seed_ = 300\n",
        "np.random.seed(seed_)"
      ],
      "execution_count": 3,
      "outputs": []
    },
    {
      "cell_type": "markdown",
      "metadata": {
        "colab_type": "text",
        "id": "4ML4pIcNTjIy"
      },
      "source": [
        "**Uso de GPU**  \n",
        "En este ejercicio se utilizarán modelos que requieren alto poder de computo por lo que se recomienda usar GPU. Recuerde que en **Colaboratory** tiene acceso gratuito a dicho recurso.  "
      ]
    },
    {
      "cell_type": "code",
      "metadata": {
        "colab_type": "code",
        "id": "OVVP3vtvUFSY",
        "colab": {
          "base_uri": "https://localhost:8080/",
          "height": 35
        },
        "outputId": "d73c1ff7-2ccd-427a-ee22-6089e0f1326d"
      },
      "source": [
        "device = torch.device('cuda:0' if torch.cuda.is_available() else 'cpu')\n",
        "device"
      ],
      "execution_count": 4,
      "outputs": [
        {
          "output_type": "execute_result",
          "data": {
            "text/plain": [
              "device(type='cuda', index=0)"
            ]
          },
          "metadata": {
            "tags": []
          },
          "execution_count": 4
        }
      ]
    },
    {
      "cell_type": "markdown",
      "metadata": {
        "colab_type": "text",
        "id": "8wc0YidsCEez"
      },
      "source": [
        "## Preliminares\n",
        "\n",
        "### Carga de datos\n"
      ]
    },
    {
      "cell_type": "markdown",
      "metadata": {
        "colab_type": "text",
        "id": "QTqNQrWP34mq"
      },
      "source": [
        "- Compruebe que la siguiente celda coincide con este output:\n",
        "\n",
        "```\n",
        "<class 'pandas.core.frame.DataFrame'>\n",
        "Int64Index: 6335 entries, 8476 to 4330\n",
        "Data columns (total 3 columns):\n",
        " #   Column  Non-Null Count  Dtype \n",
        "---  ------  --------------  ----- \n",
        " 0   title   6335 non-null   object\n",
        " 1   text    6335 non-null   object\n",
        " 2   label   6335 non-null   object\n",
        "dtypes: object(3)\n",
        "memory usage: 198.0+ KB\n",
        "```"
      ]
    },
    {
      "cell_type": "code",
      "metadata": {
        "colab_type": "code",
        "id": "FpKqWXBvCEe0",
        "colab": {
          "base_uri": "https://localhost:8080/",
          "height": 0
        },
        "outputId": "c616641c-0099-4d1a-9e7c-97b836e64535"
      },
      "source": [
        "raw_data_path = 'https://raw.githubusercontent.com/NicoCaro/DataScienceLab/master/ejercicios/ejercicio%203/data/news.csv'\n",
        "raw_df = pd.read_csv(raw_data_path, index_col=0)\n",
        "raw_df.info()"
      ],
      "execution_count": 5,
      "outputs": [
        {
          "output_type": "stream",
          "text": [
            "<class 'pandas.core.frame.DataFrame'>\n",
            "Int64Index: 6335 entries, 8476 to 4330\n",
            "Data columns (total 3 columns):\n",
            " #   Column  Non-Null Count  Dtype \n",
            "---  ------  --------------  ----- \n",
            " 0   title   6335 non-null   object\n",
            " 1   text    6335 non-null   object\n",
            " 2   label   6335 non-null   object\n",
            "dtypes: object(3)\n",
            "memory usage: 198.0+ KB\n"
          ],
          "name": "stdout"
        }
      ]
    },
    {
      "cell_type": "markdown",
      "metadata": {
        "colab_type": "text",
        "id": "jHVO5t1KCEe7"
      },
      "source": [
        "**Preprocesamiento**  \n",
        "El conjunto de datos consta de 3 columnas:\n",
        "- `title`: contiene el título de la noticia\n",
        "- `text`: contiene el teto de la noticia\n",
        "- `label`: contiene las etiquetas `REAL` y `FAKE` que indican si se trata de una noticia verdadera o falsa.\n",
        "\n",
        "En la siguiente celda se incluye la columna `X` con una concatenación del título y el texto de las noticias, además de la columna `y` como una representación numérica de la columna `label`."
      ]
    },
    {
      "cell_type": "code",
      "metadata": {
        "colab_type": "code",
        "id": "XrFTxJiwCEe8",
        "colab": {
          "base_uri": "https://localhost:8080/",
          "height": 0
        },
        "outputId": "9155eaca-bf38-4bf1-be62-60288d7cb18c"
      },
      "source": [
        "pro_df = raw_df.copy()\n",
        "pro_df['y'] = (pro_df['label'] == 'FAKE').astype('int')\n",
        "pro_df['X'] = pro_df['title'].str.cat(pro_df['text'], sep='. ')\n",
        "\n",
        "# se eliminan las columnas innecesarias\n",
        "pro_df = pro_df.reindex(columns=['X', 'y'])\n",
        "display(pro_df.head())"
      ],
      "execution_count": 6,
      "outputs": [
        {
          "output_type": "display_data",
          "data": {
            "text/html": [
              "<div>\n",
              "<style scoped>\n",
              "    .dataframe tbody tr th:only-of-type {\n",
              "        vertical-align: middle;\n",
              "    }\n",
              "\n",
              "    .dataframe tbody tr th {\n",
              "        vertical-align: top;\n",
              "    }\n",
              "\n",
              "    .dataframe thead th {\n",
              "        text-align: right;\n",
              "    }\n",
              "</style>\n",
              "<table border=\"1\" class=\"dataframe\">\n",
              "  <thead>\n",
              "    <tr style=\"text-align: right;\">\n",
              "      <th></th>\n",
              "      <th>X</th>\n",
              "      <th>y</th>\n",
              "    </tr>\n",
              "  </thead>\n",
              "  <tbody>\n",
              "    <tr>\n",
              "      <th>8476</th>\n",
              "      <td>You Can Smell Hillary’s Fear. Daniel Greenfiel...</td>\n",
              "      <td>1</td>\n",
              "    </tr>\n",
              "    <tr>\n",
              "      <th>10294</th>\n",
              "      <td>Watch The Exact Moment Paul Ryan Committed Pol...</td>\n",
              "      <td>1</td>\n",
              "    </tr>\n",
              "    <tr>\n",
              "      <th>3608</th>\n",
              "      <td>Kerry to go to Paris in gesture of sympathy. U...</td>\n",
              "      <td>0</td>\n",
              "    </tr>\n",
              "    <tr>\n",
              "      <th>10142</th>\n",
              "      <td>Bernie supporters on Twitter erupt in anger ag...</td>\n",
              "      <td>1</td>\n",
              "    </tr>\n",
              "    <tr>\n",
              "      <th>875</th>\n",
              "      <td>The Battle of New York: Why This Primary Matte...</td>\n",
              "      <td>0</td>\n",
              "    </tr>\n",
              "  </tbody>\n",
              "</table>\n",
              "</div>"
            ],
            "text/plain": [
              "                                                       X  y\n",
              "8476   You Can Smell Hillary’s Fear. Daniel Greenfiel...  1\n",
              "10294  Watch The Exact Moment Paul Ryan Committed Pol...  1\n",
              "3608   Kerry to go to Paris in gesture of sympathy. U...  0\n",
              "10142  Bernie supporters on Twitter erupt in anger ag...  1\n",
              "875    The Battle of New York: Why This Primary Matte...  0"
            ]
          },
          "metadata": {
            "tags": []
          }
        }
      ]
    },
    {
      "cell_type": "markdown",
      "metadata": {
        "colab_type": "text",
        "id": "dX2EcoxICEfC"
      },
      "source": [
        "### Procesamiento de texto\n",
        "A modo de ejemplo se muestra el procesamiento que se busca aplicar a cada una de las observaciones de la columna `X`."
      ]
    },
    {
      "cell_type": "code",
      "metadata": {
        "colab_type": "code",
        "id": "-RUH-Z0KCEfE",
        "colab": {
          "base_uri": "https://localhost:8080/",
          "height": 0
        },
        "outputId": "83926541-427c-4725-a6b9-64ea1c137f6a"
      },
      "source": [
        "x_muestra, y_muestra = pro_df.iloc[3].values.T\n",
        "print('Noticia falsa' if y_muestra else 'Noticia verdadera', '-' * 72,  sep='\\n')\n",
        "print(x_muestra[:501], '...')"
      ],
      "execution_count": 7,
      "outputs": [
        {
          "output_type": "stream",
          "text": [
            "Noticia falsa\n",
            "------------------------------------------------------------------------\n",
            "Bernie supporters on Twitter erupt in anger against the DNC: 'We tried to warn you!'. — Kaydee King (@KaydeeKing) November 9, 2016 The lesson from tonight's Dem losses: Time for Democrats to start listening to the voters. Stop running the same establishment candidates. \n",
            "— People For Bernie (@People4Bernie) November 9, 2016 If Dems didn't want a tight race they shouldn't have worked against Bernie. \n",
            "— Walker Bragman (@WalkerBragman) November 9, 2016 \n",
            "New York Times columnist Paul Krugman, who was  ...\n"
          ],
          "name": "stdout"
        }
      ]
    },
    {
      "cell_type": "markdown",
      "metadata": {
        "colab_type": "text",
        "id": "jgLJ3uE1CEfJ"
      },
      "source": [
        "**Definición del modelo `spacy`**  \n",
        "El modelo estadístico de `spacy` que usaremos en el ejercicio es `english_web_sm`, que consiste en un objeto basado en una red convolucional, preentrenada en un conjunto de datos llamado Ontowords y diseñada para resolver múltiples tareas de procesamiento de lenguaje natural, dento de sus métodos se encuentran rutinas de tokenización y lematización detalladas posteriormente.\n",
        "\n",
        "Dentro de las funcionalidades que entrega este modelo, hay un subconjunto que no se utilizará en el ejercicio. Para ahorrar tiempo de cómputo, estas funcionalidades son deshabilitadas en el  el argumento `disable`.\n",
        "\n",
        "**Obs:** Puede ser necesario ejecutar `python -m spacy download en_core_web_sm` para tener acceso a tal modelo de lenguaje."
      ]
    },
    {
      "cell_type": "code",
      "metadata": {
        "colab_type": "code",
        "id": "DhOaF6SDCEfK",
        "colab": {
          "base_uri": "https://localhost:8080/",
          "height": 0
        },
        "outputId": "b4f27f12-fcfa-4070-f869-d613eb466cf4"
      },
      "source": [
        "nlp = spacy.load('en_core_web_sm', disable=['entitry_ruler', 'textcat', \n",
        "                                            'entity_linker', 'ner', 'tagger'])\n",
        "print(type(nlp))"
      ],
      "execution_count": 8,
      "outputs": [
        {
          "output_type": "stream",
          "text": [
            "<class 'spacy.lang.en.English'>\n"
          ],
          "name": "stdout"
        }
      ]
    },
    {
      "cell_type": "markdown",
      "metadata": {
        "colab_type": "text",
        "id": "aUcaWEY4CEfP"
      },
      "source": [
        "**Tokenización**  \n",
        "\n",
        "Lo primero para analizar texto es separar el campo de texto en _tokens_. Un _token_ es un segmento significativo del texto. La entrada al tokenizer es un texto unicode, y la salida es un `spacy.tokens.doc.Doc`.\n",
        "\n",
        "\n",
        "El proceso puede entenderse como:\n",
        "1. Aplicar el método `str.split(' ')` que entrega una lista de `str`.\n",
        "2. Verificar si cada uno de los elementos de la lista puede subdividirse:\n",
        "    1. **Porque se trata de una regla de excepción.** Por ejemplo `don't` debería subdividirse en `do` y `n't`, mientras que `U.K.` no debe subdividirse.\n",
        "    2. **Porque el elemento contiene prefijos, sufijos o [infijos](https://dle.rae.es/infijo).** Por ejemplo comillas, comas, puntos, etc...\n",
        "    \n",
        "Para más detalles ver la documentación de [spacy](https://spacy.io/usage/linguistic-features#tokenization).\n",
        "\n",
        "Así al generar *tokens* en `x_muestra`, los 20 primeros son: "
      ]
    },
    {
      "cell_type": "code",
      "metadata": {
        "colab_type": "code",
        "id": "JRloFA6CCEfP",
        "colab": {
          "base_uri": "https://localhost:8080/",
          "height": 0
        },
        "outputId": "cf285042-af23-49dc-b314-5ae92fb1b277"
      },
      "source": [
        "spacy_doc = nlp(x_muestra)\n",
        "[print(token) for token in spacy_doc[:20]];"
      ],
      "execution_count": 9,
      "outputs": [
        {
          "output_type": "stream",
          "text": [
            "Bernie\n",
            "supporters\n",
            "on\n",
            "Twitter\n",
            "erupt\n",
            "in\n",
            "anger\n",
            "against\n",
            "the\n",
            "DNC\n",
            ":\n",
            "'\n",
            "We\n",
            "tried\n",
            "to\n",
            "warn\n",
            "you\n",
            "!\n",
            "'\n",
            ".\n"
          ],
          "name": "stdout"
        }
      ]
    },
    {
      "cell_type": "markdown",
      "metadata": {
        "colab_type": "text",
        "id": "oB5xDaiXCEfW"
      },
      "source": [
        "**Lematización**  \n",
        "La [lematización](https://es.wikipedia.org/wiki/Lematizaci%C3%B3n) es el proceso de agrupar las formas flexionadas de una palabra (en plural, en femenino, conjugada, etc), para que puedan analizarse como un solo elemento, identificado por el **lema** de la palabra.\n",
        "\n",
        "En procesamiento de lenguaje natural a lematización depende de la identificación correcta de la [categoría gramatical](https://es.wikipedia.org/wiki/Categor%C3%ADa_gramatical) (*part of speech*). Algunos ejemplos de categoría gramatical son sustantivo, adjetivo, verbo, advervio, etc...\n",
        "\n",
        "En `spacy` accedemos al lema mediante el atributo `lemma_`. Así, para los 20 primeros *tokens*:"
      ]
    },
    {
      "cell_type": "code",
      "metadata": {
        "colab_type": "code",
        "id": "AKskjZS8CEfW",
        "colab": {
          "base_uri": "https://localhost:8080/",
          "height": 0
        },
        "outputId": "4ce15290-d050-4020-cdba-972e03ead92c"
      },
      "source": [
        "[print(token.lemma_) for token in spacy_doc[:20]];"
      ],
      "execution_count": 10,
      "outputs": [
        {
          "output_type": "stream",
          "text": [
            "Bernie\n",
            "supporter\n",
            "on\n",
            "Twitter\n",
            "erupt\n",
            "in\n",
            "anger\n",
            "against\n",
            "the\n",
            "DNC\n",
            ":\n",
            "'\n",
            "We\n",
            "try\n",
            "to\n",
            "warn\n",
            "you\n",
            "!\n",
            "'\n",
            ".\n"
          ],
          "name": "stdout"
        }
      ]
    },
    {
      "cell_type": "markdown",
      "metadata": {
        "colab_type": "text",
        "id": "T0jrekzgCEfb"
      },
      "source": [
        "**Stopwords**  \n",
        "Los *tokens* generados pueden ser clasificados como [palabras vacías](https://es.wikipedia.org/wiki/Palabra_vac%C3%ADa) (*stop words*) que no tienen significado en si mismas. Algunos ejemplos son preposiciones, artículos, pronombres, etc... En procesamiento de lenguaje natural es común eliminarlas.\n",
        "\n",
        "Para este ejercicio eliminaremos las *palabras vacías* mediante el atributo `is_stop`, además de los *token* que no sean alfanuméricos mediante el atributo `is_alpha`. "
      ]
    },
    {
      "cell_type": "code",
      "metadata": {
        "colab_type": "code",
        "id": "HuBvA32OCEfc",
        "colab": {
          "base_uri": "https://localhost:8080/",
          "height": 0
        },
        "outputId": "d5214720-ab7c-4e94-adf6-88beb906f573"
      },
      "source": [
        "[print(token) for token in spacy_doc[:20] if (not token.is_stop) and token.is_alpha];"
      ],
      "execution_count": 11,
      "outputs": [
        {
          "output_type": "stream",
          "text": [
            "Bernie\n",
            "supporters\n",
            "Twitter\n",
            "erupt\n",
            "anger\n",
            "DNC\n",
            "tried\n",
            "warn\n"
          ],
          "name": "stdout"
        }
      ]
    },
    {
      "cell_type": "markdown",
      "metadata": {
        "colab_type": "text",
        "id": "A3x2F0cVCEfi"
      },
      "source": [
        "#### Pregunta 1\n",
        "1. Defina la función `procesa_texto` que reciba como argumento un texto y un modelo de lenguaje `spacy`. La función `procesa_texto` debe entregar un texto con los lemas de cada *token*, eliminando las palabras vacías y los *token* que no sean alfanuméricos, usando el procedimiento recién presentado. El texto obtenido debe separar los lemas por espacios `' '`.\n",
        "2. Aplique dicha función a la columna `X`, guardando sus resultados en la columna `pro_X`. Como modelo de lenguaje `spacy`, utilice el modelo instanciado anteriormente.  \n",
        "    **Observaciones**:\n",
        "    - Es usual que esta operación tome bastante tiempo por lo que recomendamos usar el método `progress_apply` de pandas que permite reportar el progreso de la operación mediante la librería `tqdm`. Para habilitar dicho método de la librería pandas debe primero llamar al método `tqdm.pandas`.\n",
        "    - Puede ser útil guardar el resultado de esta operación en disco, dado el tiempo que toma repetir la operación. "
      ]
    },
    {
      "cell_type": "code",
      "metadata": {
        "colab_type": "code",
        "id": "EWXqJHA3CEfj",
        "colab": {}
      },
      "source": [
        "def procesa_texto(txt, model=nlp):\n",
        "  spacy_doc = model(txt)\n",
        "  lemmas = [token.lemma_ for token in spacy_doc if (not token.is_stop) and token.is_alpha]\n",
        "  return ' '.join(lemmas)"
      ],
      "execution_count": 12,
      "outputs": []
    },
    {
      "cell_type": "code",
      "metadata": {
        "colab_type": "code",
        "id": "BmoxXeHvhdRC",
        "colab": {
          "base_uri": "https://localhost:8080/",
          "height": 0
        },
        "outputId": "b34097d0-7980-42d4-d716-b580ae648c2c"
      },
      "source": [
        "procesa_texto(x_muestra)"
      ],
      "execution_count": 13,
      "outputs": [
        {
          "output_type": "execute_result",
          "data": {
            "application/vnd.google.colaboratory.intrinsic+json": {
              "type": "string"
            },
            "text/plain": [
              "'Bernie supporter Twitter erupt anger DNC try warn Kaydee King November lesson tonight Dem loss Time Democrats start listen voter Stop run establishment candidate People Bernie November Dems want tight race work Bernie Walker Bragman November New York Times columnist Paul Krugman Hillary Clinton outspoken surrogate contentious Democratic primary blame Clinton poor performance Green Party candidate Jill Stein far receive negligible numb vote nationally say Stein Ralph Nader prevent Clinton victory account throw Krugman analysis face candidate issue responsibility Teachers Bernie November Ana Navarro Republican recently endorse Hillary Clinton sum preposterous nature presidential election tweet GOP nominate damn candidate lose Hillary Clinton Democrats nominate damn candidate lose Trump Ana Navarro November Popular leave wing Facebook page pro Sanders primary respond Trump surge simply post meme Sanders face text avoid Thanks DNC meme share time hour Posted Tuesday November Bernie Sanders endorse Hillary Clinton Democratic National Convention July supporter remain adamant refusal support DNC anoint candidate point WikiLeaks revelation official DNC work scene tip scale Clinton favor coordinate medium figure circulate anti Sanders narrative attribute potential Trump presidency GOP nominee perceive popularity voter closeness election credit Hillary Clinton unfavorable rating According RealClearPolitics percent voter negative opinion Democratic nominee PM Eastern Florida Michigan Pennsylvania Wisconsin remain close Clinton electoral vote Trump Zach Cartwright activist author Richmond Virginia enjoy write politic government medium Send email email protect'"
            ]
          },
          "metadata": {
            "tags": []
          },
          "execution_count": 13
        }
      ]
    },
    {
      "cell_type": "code",
      "metadata": {
        "colab_type": "code",
        "id": "I9Is4ER2lQLQ",
        "colab": {}
      },
      "source": [
        "save = False\n",
        "\n",
        "if save:\n",
        "  tqdm.pandas()\n",
        "  pro_df['pro_X'] = pro_df['X'].progress_apply(procesa_texto)\n",
        "  pro_df = pro_df.reindex(columns=['pro_X', 'y'])"
      ],
      "execution_count": 14,
      "outputs": []
    },
    {
      "cell_type": "code",
      "metadata": {
        "colab_type": "code",
        "id": "wDZrrqxZso7v",
        "colab": {}
      },
      "source": [
        "if save:  \n",
        "  #Para guardar el DataFrame pro_df\n",
        "  with open('pro_df.pk', 'wb') as handle:\n",
        "    pk.dump(pro_df, handle)\n",
        "else:\n",
        "  #Para cargar el DataFrame pro_df\n",
        "  #Drive:\n",
        "  with open('drive/My Drive/Ejercicio_3/pro_df.pk', 'rb') as handle:\n",
        "  #with open('pro_df.pk', 'rb') as handle:\n",
        "    pro_df = pk.load(handle)"
      ],
      "execution_count": 15,
      "outputs": []
    },
    {
      "cell_type": "markdown",
      "metadata": {
        "colab_type": "text",
        "id": "m_QePI5bCEfq"
      },
      "source": [
        "3. Cuente el número de lemas en cada observación de la columna `pro_X` y compruebe que obtiene las siguientes estadísticas descriptivas:\n",
        "\n",
        "```\n",
        "count    6335.000000\n",
        "mean      393.084294\n",
        "std       409.950812\n",
        "min         2.000000\n",
        "25%       153.000000\n",
        "50%       311.000000\n",
        "75%       515.000000\n",
        "max      8730.000000\n",
        "Name: pro_X, dtype: float64\n",
        "```\n",
        "*Hint*: puede ser útil el método `pd.Series.str.count`."
      ]
    },
    {
      "cell_type": "code",
      "metadata": {
        "colab_type": "code",
        "id": "MWGdXsbPD4ow",
        "colab": {
          "base_uri": "https://localhost:8080/",
          "height": 0
        },
        "outputId": "3f48df47-bcd5-46d9-8495-da5a3480556d"
      },
      "source": [
        "pro_df['pro_X'].str.count(' ').describe()"
      ],
      "execution_count": 16,
      "outputs": [
        {
          "output_type": "execute_result",
          "data": {
            "text/plain": [
              "count    6335.000000\n",
              "mean      392.084294\n",
              "std       409.950812\n",
              "min         1.000000\n",
              "25%       152.000000\n",
              "50%       310.000000\n",
              "75%       514.000000\n",
              "max      8729.000000\n",
              "Name: pro_X, dtype: float64"
            ]
          },
          "metadata": {
            "tags": []
          },
          "execution_count": 16
        }
      ]
    },
    {
      "cell_type": "markdown",
      "metadata": {
        "colab_type": "text",
        "id": "U_nsPKTtCEfv"
      },
      "source": [
        "4. Instancie `final_df` como una copia de `pro_df` a la que se le elimina la columna `'X'`. Luego aplique la eliminación de los duplicados `final_df`.   \n",
        "- Compruebe que obtiene un total de 6,303 filas únicas en `final_df`.\n"
      ]
    },
    {
      "cell_type": "code",
      "metadata": {
        "colab_type": "code",
        "id": "s-FBpm4Xzp5G",
        "colab": {
          "base_uri": "https://localhost:8080/",
          "height": 0
        },
        "outputId": "3f087b89-034b-4b7b-d59b-4f9854885ec1"
      },
      "source": [
        "final_df = pro_df.copy()\n",
        "final_df.drop_duplicates(inplace=True)\n",
        "print('Filas únicas: ', len(final_df))"
      ],
      "execution_count": 17,
      "outputs": [
        {
          "output_type": "stream",
          "text": [
            "Filas únicas:  6303\n"
          ],
          "name": "stdout"
        }
      ]
    },
    {
      "cell_type": "markdown",
      "metadata": {
        "colab_type": "text",
        "id": "pbojUolFCEf2"
      },
      "source": [
        "### Definición de notación\n",
        "De ahora en adelante denotamos por:\n",
        "- ***Documento***: cada una de las noticias procesadas del conjunto de datos, es decir, cada una de las observaciones de la columna `'pro_X'`del DataFrame `final_df`.\n",
        "- ***Corpus***: el conjunto de *documentos* del conjunto de datos, es decir, el conjunto de observaciones de la columna `'pro_X'` del DataFrame `final_df`.\n",
        "- ***Vocabulario***: al conjunto de *tokens* presentes en el *corpus*.\n"
      ]
    },
    {
      "cell_type": "markdown",
      "metadata": {
        "colab_type": "text",
        "id": "ySZAaNLlCEf3"
      },
      "source": [
        "### Definición de conjuntos del problema\n",
        "Se separan las muestras en dos conjuntos:\n",
        "- Conjunto de *entrenamiento union validación* (denotado por `*_full_train`), con el 80% de las observaciones\n",
        "- Conjunto de *prueba* (denotado por `*_test`), con el 20% de las observaciones.\n",
        "\n",
        "A su vez el conjunto de *entrenamiento union validación* de subdivide en:\n",
        "- Conjunto de *entrenamiento* (denotado por `*_train`), con el 64% de las observaciones.\n",
        "- Conjunto de *validación* (denotado por `*_val`), con el 16% de las observaciones\n",
        "\n",
        "Para realizar esta subdivisión utilizamos dos veces la función `sklearn.model_selection.train_test_split`."
      ]
    },
    {
      "cell_type": "code",
      "metadata": {
        "colab_type": "code",
        "id": "2YYSQ9p4CEf7",
        "colab": {}
      },
      "source": [
        "# define parametros de la division de conjuntos\n",
        "proporcion_total_entrenamiento_prueba = 0.80\n",
        "proporcion_entrenamiento_validacion = 0.80\n",
        "\n",
        "# obtiene conjunto de prueba\n",
        "X_full_train, X_test, y_full_train, y_test= train_test_split(\n",
        "    final_df.pro_X, final_df.y, train_size=proporcion_total_entrenamiento_prueba, \n",
        "    random_state=seed_)\n",
        "\n",
        "# obtiene conjunto de entrnamiento y validacion\n",
        "X_train, X_val, y_train, y_val  = train_test_split(\n",
        "    X_full_train, y_full_train, train_size=proporcion_entrenamiento_validacion, \n",
        "    random_state=seed_)\n",
        "\n",
        "# guardar los conjuntos en formato csv\n",
        "conjuntos_dir = 'conjuntos'\n",
        "os.makedirs(conjuntos_dir, exist_ok=True)\n",
        "guarda_csv = lambda X, y, filename: pd.DataFrame({\n",
        "    'pro_X': X, 'y': y\n",
        "}).to_csv(f'{conjuntos_dir}/{filename}.csv', index=None)\n",
        "guarda_csv(X_train, y_train, 'entrenamiento')\n",
        "guarda_csv(X_val, y_val, 'validacion')\n",
        "guarda_csv(X_test, y_test, 'prueba')"
      ],
      "execution_count": 18,
      "outputs": []
    },
    {
      "cell_type": "markdown",
      "metadata": {
        "colab_type": "text",
        "id": "yDRxP4ebCEf_"
      },
      "source": [
        "## Modelos de aprendizaje de máquinas\n"
      ]
    },
    {
      "cell_type": "markdown",
      "metadata": {
        "colab_type": "text",
        "id": "pAg8An6BEsDg"
      },
      "source": [
        "### Modelos no paramétricos"
      ]
    },
    {
      "cell_type": "markdown",
      "metadata": {
        "colab_type": "text",
        "id": "2kljsRVFCEgA"
      },
      "source": [
        "#### Representación por conteo de ocurrencias.\n",
        "Dado que se busca resolver un problema de clasificación de documentos, es necesario representar los documentos de forma numérica. A continuación usaremos la representación por conteo de apariciones de cada uno de los *tokens* presentes en el *vocabulario*.\n",
        "\n",
        "Para realizar esta vectorización de documentos se utiliza la clase `sklearn.feature_extraction.text.CountVectorizer`. El método `fit_transform` de esta clase  recibe como argumento un `iterable` de *documentos*, extrae el *vocabulario* de dicho `iterable` y retorna la matriz de número de ocurrencias de cada *token* del *vocabulario*, en cada uno de los documentos del `iterable`. En otras palabras, definiendo $\\text{tf}(t_i, \\mathbf{d}_j)$ como el número de apariciones del *token* $t_i$ en el *documento* $\\mathbf{d}_j$, `~CountVectorizer.fit_transform` retorna la matriz $\\mathbf{C}$ definida por:\n",
        "$$\\big(c_{i, j}\\big) = \\text{tf}(t_j, \\mathbf{d}_i)$$"
      ]
    },
    {
      "cell_type": "markdown",
      "metadata": {
        "colab_type": "text",
        "id": "14YOBySYCEgB"
      },
      "source": [
        "#### Naive Bayes\n",
        "\n",
        "Se emplea el algoritmo de *Naive Bayes* como base de referencia para los modelos más complejos empleados posteriormente. Específicamente, se utiliza una instancia de la clase `sklearn.naive_bayes.MultinomialNB` que está diseñado para trabajar con las características del tipo conteo. \n",
        "\n"
      ]
    },
    {
      "cell_type": "markdown",
      "metadata": {
        "colab_type": "text",
        "id": "0LXS7kANE0A-"
      },
      "source": [
        "##### Pregunta 2\n",
        "1. Instancie `nb_pipe` como un objeto de la clase `sklearn.pipeline.Pipeline` con los componentes:\n",
        "    - `~CountVectorizer` inicializado con `max_features=20000` los demás parámetros por defecto.\n",
        "    - `~MultinomialNB` inicializado con los parámetros por defecto.  \n",
        "    \n",
        "   Posteriormente, ajuste `nb_pipe` en el conjunto de *entrenamiento union validación* y guarde el modelo resultante en la carpeta `modelos/nb_pipe.pk` como un archivo `pickle`. "
      ]
    },
    {
      "cell_type": "code",
      "metadata": {
        "colab_type": "code",
        "id": "KBiY5mcwEC1N",
        "colab": {
          "base_uri": "https://localhost:8080/",
          "height": 276
        },
        "outputId": "08f56576-33de-4b38-b01b-0d16e33fb25b"
      },
      "source": [
        "#Se definen los objetos\n",
        "cv = CountVectorizer(max_features=20000)\n",
        "mnb = MultinomialNB()\n",
        "\n",
        "nb_pipe = Pipeline(steps=[\n",
        "                          ('countvec',cv),\n",
        "                          ('multinb',mnb)\n",
        "])\n",
        "\n",
        "#Ajusta la pipeline\n",
        "nb_pipe.fit(X_full_train,y_full_train)"
      ],
      "execution_count": 19,
      "outputs": [
        {
          "output_type": "execute_result",
          "data": {
            "text/plain": [
              "Pipeline(memory=None,\n",
              "         steps=[('countvec',\n",
              "                 CountVectorizer(analyzer='word', binary=False,\n",
              "                                 decode_error='strict',\n",
              "                                 dtype=<class 'numpy.int64'>, encoding='utf-8',\n",
              "                                 input='content', lowercase=True, max_df=1.0,\n",
              "                                 max_features=20000, min_df=1,\n",
              "                                 ngram_range=(1, 1), preprocessor=None,\n",
              "                                 stop_words=None, strip_accents=None,\n",
              "                                 token_pattern='(?u)\\\\b\\\\w\\\\w+\\\\b',\n",
              "                                 tokenizer=None, vocabulary=None)),\n",
              "                ('multinb',\n",
              "                 MultinomialNB(alpha=1.0, class_prior=None, fit_prior=True))],\n",
              "         verbose=False)"
            ]
          },
          "metadata": {
            "tags": []
          },
          "execution_count": 19
        }
      ]
    },
    {
      "cell_type": "code",
      "metadata": {
        "colab_type": "code",
        "id": "oSf50ZoAulPe",
        "colab": {}
      },
      "source": [
        "if save:\n",
        "  #Se guarda el modelo ajustado\n",
        "  modelos_dir = 'modelos'\n",
        "  os.makedirs(modelos_dir, exist_ok=True)\n",
        "\n",
        "  with open('modelos/nb_pipe.pk', 'wb') as handle:\n",
        "    pk.dump(nb_pipe, handle)\n",
        "\n",
        "else:\n",
        "  #Se carga el modelo anterior\n",
        "  #with open('drive/My Drive/Ejercicio_3/modelos/nb_pipe.pk', 'rb') as handle:\n",
        "  with open('modelos/nb_pipe.pk', 'rb') as handle:\n",
        "    nb_pipe = pk.load(handle)"
      ],
      "execution_count": 20,
      "outputs": []
    },
    {
      "cell_type": "markdown",
      "metadata": {
        "colab_type": "text",
        "id": "8R4IVhILCEgG"
      },
      "source": [
        "2. Defina la función `evalua_sklearn`  que reciba como argumentos:\n",
        "    - `y_true`: np.array de una dimensión, conteniendo las etiquetas de cada una de las observaciones \n",
        "    - `y_pred`: np.array, con las etiquetas predichas por algún modelo de clasificación\n",
        "    - `nombre_clasificador`: str, define el nombre de la carpeta donde los resultados son guardados. \n",
        "    \n",
        "  Esta función debe:\n",
        "    - Imprimir en pantalla los resultados de clasificación, mediante `sklearn.metrics.classification_report` con 4 dígitos de precisión. Además debe guardar dichos resultadoes  en la ruta `f'resultados/{nombre_clasificador}/reporte_clasificacion.txt'`.\n",
        "    - Generar un gráfico con la *matriz de confusión* mediante el uso de `sklearn.metrics.confusion_matrix` y `seaborn.heatmap`. Además debe guardar dicho gráfico en la ruta `f'resultados/{nombre_clasificador}/mc.pdf'`.\n",
        "    \n",
        "  Pruebe esta función con la predicción de `nb_pipe` sobre el conjunto de *prueba*, usando `nombre_clasificador='nb_pipe'`."
      ]
    },
    {
      "cell_type": "code",
      "metadata": {
        "colab_type": "code",
        "id": "opHsYtdSEH6J",
        "colab": {}
      },
      "source": [
        "def evalua_sklearn(y_true, y_pred, nombre_clasificador, save=False):\n",
        "  results = classification_report(y_true, y_pred, digits=4)\n",
        "  print(results)\n",
        "\n",
        "  resultados_dir = f'resultados/{nombre_clasificador}'\n",
        "  os.makedirs(resultados_dir, exist_ok=True)\n",
        "\n",
        "  ruta = f'resultados/{nombre_clasificador}/reporte_clasificacion.txt'\n",
        "  if save:\n",
        "    with open(ruta, 'w') as handle:\n",
        "      handle.write(results)\n",
        "\n",
        "  cfm = confusion_matrix(y_true, y_pred)\n",
        "  heatmap = sns.heatmap(cfm)\n",
        "\n",
        "  ruta = f'resultados/{nombre_clasificador}/mc.pdf'\n",
        "  if save:\n",
        "    plt.savefig(ruta, format='pdf')"
      ],
      "execution_count": 21,
      "outputs": []
    },
    {
      "cell_type": "code",
      "metadata": {
        "colab_type": "code",
        "id": "i0PMfaHu7ZTH",
        "colab": {
          "base_uri": "https://localhost:8080/",
          "height": 431
        },
        "outputId": "3a0b8d1e-156b-4f91-98f2-730aa9bdbfba"
      },
      "source": [
        "y_pred = nb_pipe.predict(X_test)\n",
        "nombre_clasificador='nb_pipe'\n",
        "\n",
        "evalua_sklearn(y_test,y_pred,nombre_clasificador)"
      ],
      "execution_count": 22,
      "outputs": [
        {
          "output_type": "stream",
          "text": [
            "              precision    recall  f1-score   support\n",
            "\n",
            "           0     0.8895    0.9217    0.9053       664\n",
            "           1     0.9092    0.8727    0.8906       597\n",
            "\n",
            "    accuracy                         0.8985      1261\n",
            "   macro avg     0.8994    0.8972    0.8980      1261\n",
            "weighted avg     0.8989    0.8985    0.8984      1261\n",
            "\n"
          ],
          "name": "stdout"
        },
        {
          "output_type": "display_data",
          "data": {
            "image/png": "[encoded data removed]",
            "text/plain": [
              "<Figure size 432x288 with 2 Axes>"
            ]
          },
          "metadata": {
            "tags": [],
            "needs_background": "light"
          }
        }
      ]
    },
    {
      "cell_type": "markdown",
      "metadata": {
        "colab_type": "text",
        "id": "dQ1wjJUqCEgM"
      },
      "source": [
        "- Compruebe que obtiene un *accuracy* y un promedio ponderado de *f1-score* superiores a .89.  "
      ]
    },
    {
      "cell_type": "markdown",
      "metadata": {
        "colab_type": "text",
        "id": "F29MRA-xCEgN"
      },
      "source": [
        "#### Representación Tf-idf\n",
        "\n",
        "Para esta sección y la posterior se emplea la clase `sklearn.feature_extraction.text.TfidfVectorizer`. \n",
        "\n",
        "Para comprender el algoritmo ***tf-idf*** (*term frequency - inverse document frequency*) necesitamos definir 3 de sus componentes:\n",
        "- $\\text{tf}(t_j, \\mathbf{d}_i)$ que representa el número de apariciones del *token* $t_j$ en el *documento* $\\mathbf{d}_i$.\n",
        "\n",
        "- $\\text{df}(t_j)$ que representa el número de documentos en que aparece el *token* $t_j$.\n",
        "- $\\text{idf}(t_j)$ que representa el inverso de la frecuencia del *token* $t_j$ en los *documentos* del *corpus*. En el caso particular del objeto `~.TfidfVectorizer` empleado, denotando por $n$ al numero de documentos del *corpus*, se usa una versión suavizada de la función $\\text{idf}$. Esto es: \n",
        "\n",
        "$$\n",
        "\\text{idf}(t_j) = \\log(\\frac{1 + n}{1 + \\text{df}(t_j)}) + 1\n",
        "$$\n",
        "\n",
        "\n",
        "Con dichos componentes, podemos definir a la representación vectorial del documento $\\mathbf{d}_i$ mediante el vector $\\textbf{tf-idf}(\\mathbf{d}_i)$, cuyas coordenadas se calculan de la siguiente manera:\n",
        "\n",
        "$$\n",
        "\\left(\\textbf{tf-idf}(\\mathbf{d}_i)_i\\right) = \\text{tf}(t_j, \\mathbf{d}_i) \\times \\text{idf}(t_j)\n",
        "$$\n",
        "\n",
        "\n",
        "Así la salida del objeto `~.TfidfVectorizer` es la matriz de la concatenación por filas, de los vectores $\\textbf{tf-idf}(\\mathbf{d}_i)$ normalizados según la norma euclidiana, es decir, la matriz $\\mathbf{X}$, definida por:\n",
        "\n",
        "\n",
        "$$\n",
        "\\left( x_{i,j} \\right) = \\frac{\\text{tf}(t_j, \\mathbf{d}_i) \\times \\text{idf}(t_j)}{{||\\textbf{tf-idf}(\\mathbf{d}_i)||}_2} \n",
        "$$\n",
        "\n",
        "\n",
        "\n",
        "donde ${||\\cdot||}_2$ representa la norma euclidiana. En consecuencia se logra una representación vectorial sobre la esfera unitaria de la norma ${||\\cdot||}_2$.\n",
        "\n",
        "Una interpretación posible de esta representación vectorial es que cada *token* $t_j$ tiene mayor importancia en el documento $\\mathbf{d}_i$:\n",
        "\n",
        "- En la medida en que esta aparezca más veces en el documento\n",
        "- En la medida en que esta aparezca menos veces en los demás documentos del corpus"
      ]
    },
    {
      "cell_type": "markdown",
      "metadata": {
        "colab_type": "text",
        "id": "M8A8IZPoCEgN"
      },
      "source": [
        "#### Maquinas de soporte vectorial (SVM)\n",
        "\n",
        "Se emplea el algoritmo de máquinas de soporte vectorial (*Support Vector Machines - SVM*) sobre la representación vectorial *tf-idf*. La clase utilizada para generar este modelo es `sklearn.svm.SVC`.\n",
        "\n"
      ]
    },
    {
      "cell_type": "markdown",
      "metadata": {
        "colab_type": "text",
        "id": "1_rQh6ZPE4dA"
      },
      "source": [
        "##### Pregunta 3\n",
        "1. Instancie `svm_pipe` como un objeto de la clase `sklearn.pipeline.Pipeline` con los componentes:\n",
        "    - `~.TfidfVectorizer` inicializado con `max_features=20000` los demás parámetros por defecto.\n",
        "    - `~.SVC` inicializado con el kernel RBF y los parámetros por defecto.  \n",
        "    \n",
        "   Posteriormente, ajuste `svm_pipe` en el conjunto de *entrenamiento union validación* y guarde el modelo resultante en la carpeta `modelos/svm_pipe.pk` como un archivo `pickle`. Finalmente, reporte el desempeño del clasificador mediante `evalua_sklearn` con la predicción de `svm_pipe` sobre el conjunto de *prueba*, usando `nombre_clasificador='svm_pipe'`."
      ]
    },
    {
      "cell_type": "code",
      "metadata": {
        "colab_type": "code",
        "id": "C-fRguPeELN-",
        "colab": {
          "base_uri": "https://localhost:8080/",
          "height": 405
        },
        "outputId": "8105c4db-9b9c-4f44-896e-567b97929bdc"
      },
      "source": [
        "#Iniciamos los objetos\n",
        "tfv = TfidfVectorizer(max_features=20000)\n",
        "svc = SVC(kernel='rbf')\n",
        "\n",
        "svm_pipe = Pipeline(steps=[\n",
        "                           ('tfidvec',tfv),\n",
        "                           ('SVC',svc)\n",
        "])\n",
        "\n",
        "#Ajustamos la pipeline\n",
        "svm_pipe.fit(X_full_train, y_full_train)"
      ],
      "execution_count": 23,
      "outputs": [
        {
          "output_type": "execute_result",
          "data": {
            "text/plain": [
              "Pipeline(memory=None,\n",
              "         steps=[('tfidvec',\n",
              "                 TfidfVectorizer(analyzer='word', binary=False,\n",
              "                                 decode_error='strict',\n",
              "                                 dtype=<class 'numpy.float64'>,\n",
              "                                 encoding='utf-8', input='content',\n",
              "                                 lowercase=True, max_df=1.0, max_features=20000,\n",
              "                                 min_df=1, ngram_range=(1, 1), norm='l2',\n",
              "                                 preprocessor=None, smooth_idf=True,\n",
              "                                 stop_words=None, strip_accents=None,\n",
              "                                 sublinear_tf=False,\n",
              "                                 token_pattern='(?u)\\\\b\\\\w\\\\w+\\\\b',\n",
              "                                 tokenizer=None, use_idf=True,\n",
              "                                 vocabulary=None)),\n",
              "                ('SVC',\n",
              "                 SVC(C=1.0, break_ties=False, cache_size=200, class_weight=None,\n",
              "                     coef0=0.0, decision_function_shape='ovr', degree=3,\n",
              "                     gamma='scale', kernel='rbf', max_iter=-1,\n",
              "                     probability=False, random_state=None, shrinking=True,\n",
              "                     tol=0.001, verbose=False))],\n",
              "         verbose=False)"
            ]
          },
          "metadata": {
            "tags": []
          },
          "execution_count": 23
        }
      ]
    },
    {
      "cell_type": "code",
      "metadata": {
        "colab_type": "code",
        "id": "nOcViCfuCt5K",
        "colab": {}
      },
      "source": [
        "if save:\n",
        "  #Se guarda el modelo ajustado\n",
        "  modelos_dir = 'modelos'\n",
        "  os.makedirs(modelos_dir, exist_ok=True)\n",
        "\n",
        "  with open('modelos/svm_pipe.pk', 'wb') as handle:\n",
        "    pk.dump(svm_pipe, handle)\n",
        "\n",
        "else:  \n",
        "  #Se carga el modelo anterior\n",
        "  #with open('drive/My Drive/Ejercicio_3/modelos/svm_pipe.pk', 'rb') as handle:\n",
        "  with open('modelos/svm_pipe.pk', 'rb') as handle:\n",
        "    svm_pipe = pk.load(handle)"
      ],
      "execution_count": 24,
      "outputs": []
    },
    {
      "cell_type": "code",
      "metadata": {
        "colab_type": "code",
        "id": "V_K6FqRzDudY",
        "colab": {
          "base_uri": "https://localhost:8080/",
          "height": 431
        },
        "outputId": "fb23b893-f5a2-4d1c-9309-6cfb48bd5c94"
      },
      "source": [
        "y_pred = svm_pipe.predict(X_test)\n",
        "nombre_clasificador='svm_pipe'\n",
        "\n",
        "evalua_sklearn(y_test,y_pred,nombre_clasificador)"
      ],
      "execution_count": 25,
      "outputs": [
        {
          "output_type": "stream",
          "text": [
            "              precision    recall  f1-score   support\n",
            "\n",
            "           0     0.9507    0.9006    0.9250       664\n",
            "           1     0.8956    0.9481    0.9211       597\n",
            "\n",
            "    accuracy                         0.9231      1261\n",
            "   macro avg     0.9231    0.9243    0.9230      1261\n",
            "weighted avg     0.9246    0.9231    0.9231      1261\n",
            "\n"
          ],
          "name": "stdout"
        },
        {
          "output_type": "display_data",
          "data": {
            "image/png": "[encoded data removed]",
            "text/plain": [
              "<Figure size 432x288 with 2 Axes>"
            ]
          },
          "metadata": {
            "tags": [],
            "needs_background": "light"
          }
        }
      ]
    },
    {
      "cell_type": "markdown",
      "metadata": {
        "colab_type": "text",
        "id": "xj3HbM47CEgT"
      },
      "source": [
        "Las máquinas de soporte vectorial son algoritmos que pueden ser muy sensibles a los hiperparámetros. Por esta razón es útil emplear un esquema de validación cruzada. A continuación se implementa un esquema de validación cruzada simple, que explora sólo diferentes kernels y coeficientes de regularización.\n",
        "2. Instancie `svm_grid` como un objeto de la clase `sklearn.model_selection.GridSearchCV`con los parámetros:\n",
        "    - `n_jobs=-1` para usar todos los núcleos disponibles\n",
        "    - `param_grid` definido de tal forma que le permita probar las combinaciones de los siguientes hiperparámetros de `~SVC`:\n",
        "        - `kernel` en {`'lineal'`, `'rbf'`}\n",
        "        - `C` en {`.01`, `.1`, `1`, `10`, `100`}\n",
        "\n",
        "    - `cv=3` para generar un esquema de validación cruzada estratificada con 3 *fold*.\n",
        "    - `verbose=1` para reportar el progreso del ajuste en pantalla\n",
        "    \n",
        "  Los demás parámetros quedan con sus valores por defecto.  \n",
        "  \n",
        "  Ajuste `grid_search_svm` usando `svm_pipe` sobre el conjunto *entrenamiento union validación* y guarde el modelo resultante en la carpeta `modelos/svm_grid.pk` como un archivo `pickle`. Luego reporte el desempeño del clasificador mediante `evalua_sklearn` con la predicción de `svm_grid` sobre el conjunto de *prueba*, usando `nombre_clasificador='svm_grid'`.  \n",
        "  \n",
        "  **Obs**: Evite fuga de información al combinar ``svm_pipe`` con `grid_search_svm`.\n",
        "\n",
        "  Finalmente, en ruta `resultados/svm_grid/mejores_parametros.txt` guarde los mejores parámetros obtenidos en `svm_grid`."
      ]
    },
    {
      "cell_type": "code",
      "metadata": {
        "colab_type": "code",
        "id": "TJJyKChuEOLr",
        "colab": {}
      },
      "source": [
        "# no olvide fijar la semilla \n",
        "np.random.seed(seed_)\n",
        "\n",
        "#Inicio el objeto\n",
        "param_grid = {'SVC__kernel': ['lineal','rbf'],\n",
        "              'SVC__C': [.01, .1, 1, 10, 100]\n",
        "              }\n",
        "\n",
        "svm_grid = GridSearchCV(svm_pipe,\n",
        "                        n_jobs=-1,\n",
        "                        param_grid = param_grid,\n",
        "                        cv=3,\n",
        "                        verbose=1\n",
        ")\n",
        "\n",
        "#Ajusto la grilla\n",
        "if save:\n",
        "  svm_grid.fit(X_full_train, y_full_train)"
      ],
      "execution_count": 26,
      "outputs": []
    },
    {
      "cell_type": "code",
      "metadata": {
        "colab_type": "code",
        "id": "T9ygeWLaMtyf",
        "colab": {}
      },
      "source": [
        "if save:\n",
        "  #Se guarda el modelo ajustado\n",
        "  modelos_dir = 'modelos'\n",
        "  os.makedirs(modelos_dir, exist_ok=True)\n",
        "\n",
        "  with open('modelos/svm_grid.pk', 'wb') as handle:\n",
        "    pk.dump(svm_grid, handle)\n",
        "\n",
        "else:\n",
        "  #Se carga el modelo anterior\n",
        "  #with open('drive/My Drive/Ejercicio_3/modelos/svm_grid.pk', 'rb') as handle:\n",
        "  with open('modelos/svm_grid.pk', 'rb') as handle:\n",
        "    svm_grid = pk.load(handle)"
      ],
      "execution_count": 27,
      "outputs": []
    },
    {
      "cell_type": "code",
      "metadata": {
        "colab_type": "code",
        "id": "tcXBkNwFMtzF",
        "colab": {
          "base_uri": "https://localhost:8080/",
          "height": 433
        },
        "outputId": "44265575-633c-4e9c-bb12-f53343d2d382"
      },
      "source": [
        "y_pred = svm_grid.predict(X_test)\n",
        "nombre_clasificador='svm_grid'\n",
        "\n",
        "evalua_sklearn(y_test,y_pred,nombre_clasificador)"
      ],
      "execution_count": 28,
      "outputs": [
        {
          "output_type": "stream",
          "text": [
            "              precision    recall  f1-score   support\n",
            "\n",
            "           0     0.9528    0.9111    0.9315       664\n",
            "           1     0.9058    0.9497    0.9272       597\n",
            "\n",
            "    accuracy                         0.9294      1261\n",
            "   macro avg     0.9293    0.9304    0.9294      1261\n",
            "weighted avg     0.9305    0.9294    0.9295      1261\n",
            "\n"
          ],
          "name": "stdout"
        },
        {
          "output_type": "display_data",
          "data": {
            "image/png": "[encoded data removed]",
            "text/plain": [
              "<Figure size 432x288 with 2 Axes>"
            ]
          },
          "metadata": {
            "tags": [],
            "needs_background": "light"
          }
        }
      ]
    },
    {
      "cell_type": "code",
      "metadata": {
        "colab_type": "code",
        "id": "OAE-rT7fQsVE",
        "colab": {}
      },
      "source": [
        "ruta = 'resultados/svm_grid/mejores_parametros.txt'\n",
        "best_params = svm_grid.best_params_\n",
        "\n",
        "if save:\n",
        "  with open(ruta, 'w') as handle:\n",
        "    handle.write(str(best_params))"
      ],
      "execution_count": 29,
      "outputs": []
    },
    {
      "cell_type": "markdown",
      "metadata": {
        "colab_type": "text",
        "id": "CW8MfC6GEdgD"
      },
      "source": [
        "### Modelos paramétricos\n",
        "\n",
        "En lo que sigue del ejercicio se construirá una red neuronal recurrente (*RNN*). Para ello se usará principalmente la librería `torchtext` que provee una serie de herramientas que facilitan el manejo de texto para redes neuronales."
      ]
    },
    {
      "cell_type": "markdown",
      "metadata": {
        "colab_type": "text",
        "id": "pqXRozFCFCYS"
      },
      "source": [
        "#### Representación vectorial densa\n",
        "\n",
        "En las representaciones vectoriales anteriores, cada *token* del *vocabulario* constituye una dimension del espacio, es decir, hay tantas dimensiones en el espacio vectorial de representación como *tokens* en el *vocabulario*.\n",
        "\n",
        "Hay una desventaja enorme en esta representación, además de la cantidad enorme de dimensiones que genera. Esta es que básicamente trata todos los *token* como entidades independientes sin relación entre sí. Lo que se busca en una representación densa es alguna noción de similitud entre las palabras.\n",
        "\n",
        "Por ejemplo, supoga que se construye un modelo de lenguaje y que hemos visto las oraciones:\n",
        "\n",
        "- El matemático corrió a la tienda.\n",
        "- El físico corrió a la tienda.\n",
        "- El matemático resolvió un problema abierto.\n",
        "\n",
        "en el conjunto de *entrenamiento*. Ahora supongamos que obtenemos una nueva oración no presente en el conjunto de *entrenamiento*:\n",
        "\n",
        "- El físico resolvió un problema abierto.\n",
        "\n",
        "Si bien el modelo de lenguaje puede funcionar bien en esta oración, sería mejor si se pudiera utilizar los siguientes aspectos:\n",
        "\n",
        "- Se ha observado matemático y físico en el mismo papel en una oración. De alguna manera tienen una relación semántica.\n",
        "- Se ha observado al matemático en el rol del físico en una oración análoga a esta nueva oración.\n",
        "\n",
        "Así, se podría inferir que el físico en realidad encaja bien en la nueva oración. Esto esconde una noción de similitud: queremos decir similitud semántica, no simplemente tener representaciones ortográficas similares. Este ejemplo, por supuesto, se basa en una suposición lingüística fundamental: que las palabras que aparecen en contextos similares están relacionadas semánticamente entre sí. Esto se llama hipótesis ***distribucional***.\n",
        "\n",
        "Sobre dicha hipotesis se basa la construcción de modelos de procesamiento de lenguaje natural llamado ***word embeddings*** que se utilizan a continuación.\n",
        "\n",
        "<center>Explicación adaptada de <a href=\"https://pytorch.org/tutorials/beginner/nlp/word_embeddings_tutorial.html\">Word Embedding: Encoding Lexical Semantics - Pytorch</a></center> \n",
        "\n",
        "\n"
      ]
    },
    {
      "cell_type": "markdown",
      "metadata": {
        "colab_type": "text",
        "id": "wRUh3opLLJ3P"
      },
      "source": [
        "##### Pregunta 4 \n",
        "La forma de cargar datos en formato csv que provee `torchtext`, es mediante los objetos `torchtext.data.dataset.TabularDataset`. A direfencia de `pandas.read_csv`, donde la función puede inferir el tipo de dato de cada columna, `~.TabularDataset` necesita que dichos tipos de dato sean declarados, mediante el objeto `torchtext.data.Field`.\n",
        "\n",
        "1. Instancie `train_td`, `val_td` y `test_td` mediante el método `~.TabularDataset.splits` que le permita cargar textos de los archivos `conjuntos/*.csv` respectivos. Para ello tendrá que instanciar dos objetos de la clase `~.Field` que definan el tipo de dato para cada columna:\n",
        "\n",
        "- La columna `y`: declarada mediante el objeto `etiqueta_fd` como instancia de `~.Field`, con parametros `sequential=False, use_vocab=False, batch_first=True, dtype=torch.float` y los demás por defecto.\n",
        "- La columna `pro_X`:  declarada mediante el objeto `documento_fd`, como instancia de `~.Field`, con parámetros `include_lengths=True, batch_first=True` y los demás por defecto. El primer parámetro (`include_lengths=True`) implica que cada *documento* cargado de la columna se entregará en forma de tupla, donde además de la secuencia de *tokens* de aquel *documento*, se adjuntará el largo de la secuencia o número de tokens contenidos en este.\n",
        "\n",
        "**Obs**: Tendrá que inferir los parámetros con los cuales emplear el método `~.splits()`."
      ]
    },
    {
      "cell_type": "code",
      "metadata": {
        "colab_type": "code",
        "id": "_CPFslHMO7OF",
        "colab": {}
      },
      "source": [
        "etiqueta_fd = Field(sequential=False, use_vocab=False, batch_first=True, dtype=torch.float)\n",
        "documento_fd = Field(include_lengths=True, batch_first=True)\n",
        "\n",
        "train_td, val_td, test_td = TabularDataset.splits(\n",
        "    path='conjuntos', train='entrenamiento.csv',\n",
        "    validation='validacion.csv', test='prueba.csv', format='csv',\n",
        "    fields=[('pro_X', documento_fd), ('y', etiqueta_fd)], skip_header=True)"
      ],
      "execution_count": 36,
      "outputs": []
    },
    {
      "cell_type": "markdown",
      "metadata": {
        "colab_type": "text",
        "id": "2ZQsjBrESIYZ"
      },
      "source": [
        "`torchtext` también provee objetos que permiten iterar sobre un objeto de tipo `~.TabularDataset`. En particular, en el procesamiento de texto es beneficioso generar *batches* de secuencias que tengan largo similar, para ahorrar tiempo de escritura, ya que dichos *batches* al tener forma tensorial, deben ser completados por ceros (*padding*). Así por ejemplo, las secuencias:\n",
        "```\n",
        "[ [4, 16, 3, 8],\n",
        "  [5, 2],\n",
        "  [6, 6, 7, 9, 2] ]\n",
        "```\n",
        "deben ser transformadas a:\n",
        "```\n",
        "[ [4, 16, 3, 8, 0],\n",
        "  [5, 2, 0, 0, 0],\n",
        "  [6, 6, 7, 8, 2] ]\n",
        "```\n",
        "\n",
        "Mediante la clase ` torchtext.data.BucketIterator`, es posible iterar sobre instancias de `~.TabularDataset`, de manera que se minimiza la cantidad de *padding* y al mismo tiempo se mantiene un orden aleatorio de los datos.\n",
        "\n",
        "2.  Instancie *iterators* de cada uno de los `~.TabularDataset` instanciados, mediante `~.BucketIterator.splits` con los parámetros `batch_size=32, sort_key=lambda x: len(x.pro_X),\n",
        "device=device, sort=True, sort_within_batch=True`.\n"
      ]
    },
    {
      "cell_type": "code",
      "metadata": {
        "colab_type": "code",
        "id": "zvPAvN1eUX9E",
        "colab": {}
      },
      "source": [
        "train_iter, val_iter, test_iter = BucketIterator.splits((train_td, val_td, test_td), batch_sizes=(32,32,32), sort_key=lambda x: len(x.pro_X), device=device, sort=True,\n",
        "                                                        sort_within_batch=True)"
      ],
      "execution_count": 40,
      "outputs": []
    },
    {
      "cell_type": "markdown",
      "metadata": {
        "colab_type": "text",
        "id": "PI4uDB6mUWd2"
      },
      "source": [
        "3. Obtenga la representación vectorial del vocabulario con el *word embedding* GloVe entrenado en [Wikipedia 2014 + GigaWord 5](https://nlp.stanford.edu/projects/glove/). Para ello:\n",
        "- Instancie el objeto `glove` como una instancia de la clase `torchtext.vocab.GloVe` con los parámetros`name=\"6B\", dim=300`.\n",
        "- Ejecute el método `build_vocab` del objeto `documento_fd` con `max_size=20000` y los demás parámetros que correspondan   \n",
        "  Compruebe posteiormente que al llamar a `documento_fd.vocab.vectors.shape` obtiene las dimensiones `(20002,300)`"
      ]
    },
    {
      "cell_type": "code",
      "metadata": {
        "colab_type": "code",
        "id": "5l65cImC6in6",
        "colab": {}
      },
      "source": [
        "glove = GloVe(name='6B', dim=300)\n",
        "\n",
        "documento_fd.build_vocab(train_td, max_size=20000, vectors=glove)"
      ],
      "execution_count": 41,
      "outputs": []
    },
    {
      "cell_type": "code",
      "metadata": {
        "id": "c_GeQ6CNkh5b",
        "colab_type": "code",
        "colab": {
          "base_uri": "https://localhost:8080/",
          "height": 35
        },
        "outputId": "aefc3a4b-0e83-4762-8a5e-e468ee5cba0d"
      },
      "source": [
        "#Verificar las dimensiones\n",
        "\n",
        "documento_fd.vocab.vectors.shape"
      ],
      "execution_count": 42,
      "outputs": [
        {
          "output_type": "execute_result",
          "data": {
            "text/plain": [
              "torch.Size([20002, 300])"
            ]
          },
          "metadata": {
            "tags": []
          },
          "execution_count": 42
        }
      ]
    },
    {
      "cell_type": "markdown",
      "metadata": {
        "colab_type": "text",
        "id": "iQ875UiZYrY4"
      },
      "source": [
        "#### LSTM \n",
        "Finalmete se implementa una LSTM bidireccional. La estructura de la red LSTM ya fue revisada en el material del curso, sin embargo, no se estudió su variante bidireccional. Esta denominación implica que la secuencia de tokens presente en cada texto es procesada desde el primer token hasta el último en una LSTM y desde el úĺtimo hasta el primero en otra LSTM, tal como lo ilustra la siguiente imagen.\n",
        "\n",
        "<center> <img src=\"http://colah.github.io/posts/2015-09-NN-Types-FP/img/RNN-bidirectional.png\" align=\"middle\"> </center>\n",
        "<center> Fuente: <a href=\"http://colah.github.io/posts/2015-09-NN-Types-FP/\"> Colah's Blog </a></center>\n",
        "\n",
        "Por consistencia con la imagen, supongamos que la LSTM bidireccional recibe un documento compuesto por la secuencia de tokens $x_0, \\ldots, x_i$, de largo $i+1$. Sean $\\text{LSTM}$ la RNN que recibe los inputs desde $0$ hasta $i$ y $\\text{LSTM}'$ la RNN que los recibe desde $i$ hasta $0$. A cada input de la secuencia, $x_j$, corresponde un *output*, $y_j$ que consiste en la concatenación $\\left(A(S_j, x_j),A'(S'_{i-j}, x_j)\\right)$. Lo que debe ser considerado como la salida final de la LSTM bidireccional es la primera mitad de $y_i$ y la segunda mitad de $y_0$ pues corresponden a $A(S_i, x_i)$ y $A'(S'_i, x_0)$ respectivamente. Observe que este es output se asocia a la secuencia completa.\n",
        "\n",
        "La LSTM bi-direccional que se implementa está diseñada para usar un *word embedding* fijo, como el que fue calculado en la sección anterior.\n",
        "\n",
        "La estructura de la red es la siguiente:\n",
        "- *Word embedding* pre-entrenado (no deben calcularse gradientes en esta sección de la red), implementado con la clase `torch.nn.Embedding`.\n",
        "- LSTM bidireccional, tomando como salida la concatenación recién explicada e implementada con la clase `torch.nn.LSTM` con los parámetros `batch_first=True` y `bidirectional=True`. \n",
        "- Dropout con probabilidad .5\n",
        "- Capa totalmente conectada con salida de tamaño 1 y función de activación sigmoide.\n",
        "\n",
        "Dado que `~.BucketIterator` entrega un tensor con *paddings* de cero, es necesario transformar el input de `~.LSTM`, de tal forma que esta no procese los ceros del tensor de entrada. Por esta razón al pasar del output de `~.Embedding`, al input de `~.LSTM`, es necesario emplear la función `torch.nn.utils.rnn.pack_padded_sequence` que permite transformar una secuencia con *paddings* de 0, en una secuencia que los oculta. Dicha función es capaz de transformar un input de la forma:\n",
        "```\n",
        "seq = torch.tensor([[4,5,6], [1,2,0], [3,0,0]])\n",
        "lens = [3, 2, 1]\n",
        "packed = pack_padded_sequence(seq, lens, batch_first=True, enforce_sorted=True)\n",
        "```\n",
        "donde el objeto `packed` tendrá la forma:\n",
        "```\n",
        "PackedSequence(data=tensor([4, 1, 3, 5, 2, 6]), batch_sizes=tensor([3, 2, 1]), sorted_indices=None, unsorted_indices=None)\n",
        "```\n",
        "y estará listo para ser procesado como entrada de `~.LSTM`.\n",
        "\n",
        "Sin embargo, el empleo de aquella función, obliga a usar su función inversa, `torch.nn.utils.rnn.pad_packed_sequence`, sobre la salida de `~.LSTM` y así que pasar de un objeto `PackedSequence` a su formato tensorial con *padding* de 0. En consecuencia al emplear:\n",
        "```\n",
        "lstm = nn.LSTM(...)\n",
        "packed_output, _ = lstm(packed)\n",
        "seq_unpacked, lens_unpacked = pad_packed_sequence(packed, batch_first=True)\n",
        "``` \n",
        "Esto permitirá encontrar el output de la LSTM bidireccional en el tensor `seq_unpacked` de tamaño $B \\times T \\times C$, donde $B$ representa el tamaño del *batch*, $T$ el largo de la secuencia más larga del *batch* y $C$ el tamaño de la dimension del espacio de carácteristicas de la salida de `~.LSTM`. \n"
      ]
    },
    {
      "cell_type": "markdown",
      "metadata": {
        "colab_type": "text",
        "id": "e0r7-VImYqgc"
      },
      "source": [
        "##### Pregunta 5\n",
        "\n",
        "1. Defina la clase `Glove6B300BiLSTM` heredando de `torch.nn.Module` y definiendo los métodos:\n",
        "- `__init__`: recibe como parametros `hidden_size`, que regula el parámetro homónimo de `torch.nn.LSTM`; y `text_field` que apunta al `torchtext.data.Field` que ya contiene la representación vectorial densa del *vocabulario* que es utilizado en la capa del *word embedding*.  \n",
        "- `forward`: recibe como argumentos `text` y `text_len` que corresponden a los objetos que entrega `BucketIterator`.  \n",
        "Haga uso de las funciones `~.pack_padded_sequence` con parámetros `batch_first=True, enforce_sorted=True` y `~.pad_packed_sequence`, con parámetro `batch_first=True`. Sea ciudadoso en la selección de los segmentos del tensor de salida de `~.pad_packed_sequence` que deben ser considerados para las capas posteriores.   \n",
        "\n",
        "*Hint*: note que para construir el output de la $\\text{LSTM}$ bidireccional, deberá seleccionar segmentos de un vector de salida y concatenarlos de manera conveniente. Para ello le será de ayuda la variable `text_len`.\n",
        "\n",
        "  \n",
        "Instancie `modelo` como objeto de la clase `Glove6B300BiLSTM` con `hidden_size=128` y `text_field=documento_fd`. Recuerde instanciarlo en el espacio de memoria adecuado mediante el método `to(device)`."
      ]
    },
    {
      "cell_type": "code",
      "metadata": {
        "colab_type": "code",
        "id": "iXgixLg3f_Pc",
        "colab": {}
      },
      "source": [
        "class Glove6B300BiLSTM(nn.Module):\n",
        "\n",
        "  def __init__(self, hidden_size, text_field):\n",
        "    super().__init__()\n",
        "    self.hidden_size = hidden_size\n",
        "    self.text_field = text_field\n",
        "\n",
        "    #Word embedding pre-train no grad\n",
        "    self.word_emb = nn.Embedding.from_pretrained(self.text_field.vocab.vectors)\n",
        "\n",
        "    #Bidirec LSTM\n",
        "    self.LSTM_bi = nn.LSTM(self.word_emb.embedding_dim, self.hidden_size,\n",
        "                           batch_first = True,\n",
        "                           bidirectional=True)\n",
        "    \n",
        "    #Dropout\n",
        "    self.drop = nn.Dropout(p = .5)\n",
        "\n",
        "    #Fully conected\n",
        "    self.fc = nn.Linear(2*self.hidden_size, 1)\n",
        "\n",
        "    #Activation\n",
        "    self.act = nn.Sigmoid()\n",
        "\n",
        "\n",
        "  def forward(self, text, text_len):\n",
        "    text = self.word_emb(text)\n",
        "    text = pack_padded_sequence(text, text_len,\n",
        "                                batch_first = True,\n",
        "                                enforce_sorted=True)\n",
        "    text, _ = self.LSTM_bi(text)\n",
        "    text, _ = pad_packed_sequence(text, batch_first=True)\n",
        "\n",
        "    forward = text[:, -1, :self.hidden_size]\n",
        "    backward = text[:, 0, self.hidden_size:]\n",
        "\n",
        "    text = torch.cat((forward, backward), dim=1)\n",
        "    text = self.drop(text)\n",
        "    text = self.fc(text)\n",
        "    return self.act(text)\n"
      ],
      "execution_count": 72,
      "outputs": []
    },
    {
      "cell_type": "code",
      "metadata": {
        "id": "E5MtVXUByWIy",
        "colab_type": "code",
        "colab": {}
      },
      "source": [
        "modelo = Glove6B300BiLSTM(hidden_size=128, text_field=documento_fd).to(device)"
      ],
      "execution_count": 73,
      "outputs": []
    },
    {
      "cell_type": "markdown",
      "metadata": {
        "colab_type": "text",
        "id": "dMfKHOKtgMdJ"
      },
      "source": [
        "2. Implemente el ciclo de entrenamiento de la red `Glove6B300BiLSTM`. Para ello use:\n",
        "- Entropía cruzada binaria como funcion de costo - `torch.nn.BCELoss()`\n",
        "- Adam cómo algoritmo de optimización, con `lr=2e-4`\n",
        "- 10 epocas de entrenamiento\n",
        "- Los `BucketIterator` definidos en la pregunta anterior para recorrer los conjuntos de entrenamiento y validación.\n",
        "- Guarde en una lista el historico de valores de la función de costo en el conjunto de entrenamiento y de validación\n",
        "- Al final de cada época guarde el modelo mediante `guardar_modelo` en la ruta `modelos/Glove6B300BiLSTM.h5`, si es que la función de costo sobre el conjunto de validación es menor que la menor función de costo sobre el conjunto de validación observada en épocas anteriores. \n",
        "\n",
        "Al finalizar el entrenamiento, muestre en pantalla un gráfico con el historico de la función de costo en el conjunto de entrenamiento y en el de validación y guardelo en `resultados/Glove6B300BiLSTM/costo_historico.pdf`.\n"
      ]
    },
    {
      "cell_type": "code",
      "metadata": {
        "colab_type": "code",
        "id": "AvYtjhfcgM69",
        "colab": {}
      },
      "source": [
        "def train(net, train_it, val_it, epochs=10, lr=2e-4, clip=5, print_every=1):\n",
        "    \n",
        "    ''' Entrena la red net         \n",
        "        Parametros\n",
        "        ---------\n",
        "        net: red Glove6B300BiLSTM\n",
        "        train_it: iterador con los batches de train\n",
        "        val_it: iterador con los batches de validación\n",
        "        epochs: Numero de eopcas\n",
        "        lr: learning rate\n",
        "        clip: gradient clipping\n",
        "        print_every: Cada cuantos pasos se muestra informacion en pantalla  \n",
        "    '''    \n",
        "    \n",
        "    # Se usa Adam como optimizador\n",
        "    opt = torch.optim.Adam(net.parameters(), lr=lr)    \n",
        "    \n",
        "    #Criterio de pérdida\n",
        "    criterion = torch.nn.BCELoss().to(device)\n",
        "\n",
        "    best_loss = np.inf\n",
        "\n",
        "    data_loss = pd.DataFrame(\n",
        "      columns=['epoch', 'train_mean', 'val_mean']\n",
        "    )\n",
        "    \n",
        "    for e in range(epochs):\n",
        "      \n",
        "      train_losses = []\n",
        "\n",
        "      net.train()\n",
        "      for batch_t in train_it:\n",
        "        text = batch_t.pro_X[0]\n",
        "        text_len = batch_t.pro_X[1]\n",
        "        target = batch_t.y                              \n",
        "           \n",
        "        opt.zero_grad()\n",
        "        \n",
        "        output = net.forward(text, text_len)\n",
        "\n",
        "        loss = criterion(output, target)\n",
        "        train_losses.append(loss.item())\n",
        "\n",
        "        loss.backward()\n",
        "\n",
        "        # clip_grad_norm previene que los gradientes exploten\n",
        "        nn.utils.clip_grad_norm_(net.parameters(), clip)\n",
        "\n",
        "        opt.step()               \n",
        "          \n",
        "      # loss de validacion\n",
        "      val_losses = []\n",
        "\n",
        "      net.eval()\n",
        "      for batch_v in val_it:\n",
        "        v_text = batch_v.pro_X[0]\n",
        "        v_text_len = batch_v.pro_X[1]\n",
        "        v_target = batch_v.y                   \n",
        "            \n",
        "        v_output = net.forward(v_text, v_text_len)\n",
        "\n",
        "        val_loss = criterion(v_output, v_target)                    \n",
        "        val_losses.append(val_loss.item())\n",
        "\n",
        "      if np.mean(val_losses) < best_loss:\n",
        "        modelos_dir = 'modelos'\n",
        "        os.makedirs(modelos_dir, exist_ok=True)\n",
        "\n",
        "        ruta = 'modelos/Glove6B300BiLSTM.h5'\n",
        "        with open(ruta, 'wb') as handle:\n",
        "          torch.save(net.state_dict(), handle)\n",
        "\n",
        "        best_loss = np.mean(val_losses)\n",
        "\n",
        "      data_loss = data_loss.append(\n",
        "        {\n",
        "        'epoch': e,\n",
        "        'train_mean': np.mean(train_losses),\n",
        "        'val_mean': np.mean(val_losses),\n",
        "        },\n",
        "        ignore_index=True)\n",
        "\n",
        "      print(\"Epoch: {}/{}...\".format(e+1, epochs),\n",
        "                      \"Train Loss: {:.4f}...\".format(np.mean(train_losses)),\n",
        "                      \"Val Loss: {:.4f}\".format(np.mean(val_losses))\n",
        "                      )\n",
        "      \n",
        "    data_loss.plot('epoch',['train_mean','val_mean'])\n",
        "\n",
        "    resultados_dir = 'resultados/Glove6B300BiLSTM'\n",
        "    os.makedirs(resultados_dir, exist_ok=True)\n",
        "\n",
        "    ruta = 'resultados/Glove6B300BiLSTM/costo_historico.pdf'\n",
        "    plt.savefig(ruta, format='pdf')"
      ],
      "execution_count": 98,
      "outputs": []
    },
    {
      "cell_type": "code",
      "metadata": {
        "id": "B7U-VcITAclh",
        "colab_type": "code",
        "colab": {
          "base_uri": "https://localhost:8080/",
          "height": 595
        },
        "outputId": "a607c962-113c-4e27-9168-c01bb179fefe"
      },
      "source": [
        "train(modelo, train_iter, val_iter)"
      ],
      "execution_count": 99,
      "outputs": [
        {
          "output_type": "stream",
          "text": [
            "/usr/local/lib/python3.6/dist-packages/torch/nn/modules/loss.py:516: UserWarning: Using a target size (torch.Size([32])) that is different to the input size (torch.Size([32, 1])) is deprecated. Please ensure they have the same size.\n",
            "  return F.binary_cross_entropy(input, target, weight=self.weight, reduction=self.reduction)\n",
            "/usr/local/lib/python3.6/dist-packages/torch/nn/modules/loss.py:516: UserWarning: Using a target size (torch.Size([1])) that is different to the input size (torch.Size([1, 1])) is deprecated. Please ensure they have the same size.\n",
            "  return F.binary_cross_entropy(input, target, weight=self.weight, reduction=self.reduction)\n",
            "/usr/local/lib/python3.6/dist-packages/torch/nn/modules/loss.py:516: UserWarning: Using a target size (torch.Size([17])) that is different to the input size (torch.Size([17, 1])) is deprecated. Please ensure they have the same size.\n",
            "  return F.binary_cross_entropy(input, target, weight=self.weight, reduction=self.reduction)\n"
          ],
          "name": "stderr"
        },
        {
          "output_type": "stream",
          "text": [
            "Epoch: 1/10... Train Loss: 0.5964... Val Loss: 0.6647\n",
            "Epoch: 2/10... Train Loss: 0.5980... Val Loss: 0.6637\n",
            "Epoch: 3/10... Train Loss: 0.6020... Val Loss: 0.6677\n",
            "Epoch: 4/10... Train Loss: 0.6039... Val Loss: 0.6714\n",
            "Epoch: 5/10... Train Loss: 0.5996... Val Loss: 0.6742\n",
            "Epoch: 6/10... Train Loss: 0.5974... Val Loss: 0.6716\n",
            "Epoch: 7/10... Train Loss: 0.5984... Val Loss: 0.6751\n",
            "Epoch: 8/10... Train Loss: 0.5997... Val Loss: 0.6778\n",
            "Epoch: 9/10... Train Loss: 0.6018... Val Loss: 0.6771\n",
            "Epoch: 10/10... Train Loss: 0.6022... Val Loss: 0.6804\n"
          ],
          "name": "stdout"
        },
        {
          "output_type": "display_data",
          "data": {
            "image/png": "[encoded data removed]",
            "text/plain": [
              "<Figure size 432x288 with 1 Axes>"
            ]
          },
          "metadata": {
            "tags": [],
            "needs_background": "light"
          }
        }
      ]
    },
    {
      "cell_type": "markdown",
      "metadata": {
        "colab_type": "text",
        "id": "j7m7lmgRqeUj"
      },
      "source": [
        "3. Obtenga la predicción de `modelo` sobre el conjunto de prueba y reporte el desempeño del clasificador mediante `evalua_sklearn` con la predicción de `modelo` sobre el conjunto de *prueba*, usando `nombre_clasificador='Glove6B300BiLSTM'`."
      ]
    },
    {
      "cell_type": "code",
      "metadata": {
        "id": "fHSZ2ROGN3iG",
        "colab_type": "code",
        "colab": {
          "base_uri": "https://localhost:8080/",
          "height": 146
        },
        "outputId": "b134e7e2-f16c-48fa-e456-bfc1519093a3"
      },
      "source": [
        "best_model = Glove6B300BiLSTM(hidden_size=128, text_field=documento_fd).to(device)\n",
        "best_model.load_state_dict(torch.load('modelos/Glove6B300BiLSTM.h5'))\n",
        "best_model.eval()"
      ],
      "execution_count": 100,
      "outputs": [
        {
          "output_type": "execute_result",
          "data": {
            "text/plain": [
              "Glove6B300BiLSTM(\n",
              "  (word_emb): Embedding(20002, 300)\n",
              "  (LSTM_bi): LSTM(300, 128, batch_first=True, bidirectional=True)\n",
              "  (drop): Dropout(p=0.5, inplace=False)\n",
              "  (fc): Linear(in_features=256, out_features=1, bias=True)\n",
              "  (act): Sigmoid()\n",
              ")"
            ]
          },
          "metadata": {
            "tags": []
          },
          "execution_count": 100
        }
      ]
    },
    {
      "cell_type": "code",
      "metadata": {
        "id": "brvKUNt1q4TX",
        "colab_type": "code",
        "colab": {
          "base_uri": "https://localhost:8080/",
          "height": 431
        },
        "outputId": "ab53340c-dab0-43d2-a5c6-4c2d2bf85759"
      },
      "source": [
        "labels = []\n",
        "preds = []\n",
        "nombre_clasificador='Glove6B300BiLSTM'\n",
        "\n",
        "for batch in test_iter:\n",
        "  y_test = batch.y.tolist()\n",
        "  y_pred = best_model.forward(batch.pro_X[0], batch.pro_X[1])\n",
        "  y_pred = (y_pred >= .5).float().tolist()\n",
        "\n",
        "  labels.extend(y_test)\n",
        "  preds.extend(y_pred)\n",
        "\n",
        "\n",
        "\n",
        "evalua_sklearn(labels, preds ,nombre_clasificador, save=True)"
      ],
      "execution_count": 116,
      "outputs": [
        {
          "output_type": "stream",
          "text": [
            "              precision    recall  f1-score   support\n",
            "\n",
            "         0.0     0.5973    0.6702    0.6317       664\n",
            "         1.0     0.5756    0.4975    0.5337       597\n",
            "\n",
            "    accuracy                         0.5884      1261\n",
            "   macro avg     0.5864    0.5838    0.5827      1261\n",
            "weighted avg     0.5870    0.5884    0.5853      1261\n",
            "\n"
          ],
          "name": "stdout"
        },
        {
          "output_type": "display_data",
          "data": {
            "image/png": "[encoded data removed]",
            "text/plain": [
              "<Figure size 432x288 with 2 Axes>"
            ]
          },
          "metadata": {
            "tags": [],
            "needs_background": "light"
          }
        }
      ]
    }
  ]
}